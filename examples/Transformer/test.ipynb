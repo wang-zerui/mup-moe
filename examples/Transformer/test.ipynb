{
 "cells": [
  {
   "cell_type": "code",
   "execution_count": null,
   "metadata": {},
   "outputs": [],
   "source": []
  }
 ],
 "metadata": {
  "kernelspec": {
   "display_name": "Python 3.8.13 ('mup-example-py38')",
   "language": "python",
   "name": "python3"
  },
  "language_info": {
   "name": "python",
   "version": "3.8.13"
  },
  "orig_nbformat": 4,
  "vscode": {
   "interpreter": {
    "hash": "484a9535ffac7981d3ea0b2d921aad77fc5474b3164ac6c87a3e40fb342bbbb3"
   }
  }
 },
 "nbformat": 4,
 "nbformat_minor": 2
}
